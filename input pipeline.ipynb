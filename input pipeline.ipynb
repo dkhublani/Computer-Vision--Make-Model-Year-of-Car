{
 "cells": [
  {
   "cell_type": "code",
   "execution_count": null,
   "metadata": {},
   "outputs": [],
   "source": [
    "import json\n",
    "import os"
   ]
  },
  {
   "cell_type": "code",
   "execution_count": null,
   "metadata": {},
   "outputs": [
    {
     "data": {
      "text/plain": [
       "'/home/ubuntu/Nvidia_Cloud_EULA.pdf'"
      ]
     },
     "execution_count": 14,
     "metadata": {},
     "output_type": "execute_result"
    }
   ],
   "source": [
    "os.listdir('/autoimages/img/t1')\n",
    "# os.remove\n",
    "# os.getcwd()\n",
    "# os.chdir('/home/ubuntu')\n",
    "# os.path.isfile('autoimages/autov2/')\n",
    "# os.path.exists('autov2/')\n",
    "# os.rename('Nvidia_Cloud_EULA.pdf','src/Nvidia_Cloud_EULA.pdf')\n",
    "# import shutil\n",
    "# shutil.copy2('/home/ubuntu/src/Nvidia_Cloud_EULA.pdf','/home/ubuntu')"
   ]
  },
  {
   "cell_type": "code",
   "execution_count": 5,
   "metadata": {},
   "outputs": [],
   "source": [
    "T = os.listdir('autoimages/')"
   ]
  },
  {
   "cell_type": "code",
   "execution_count": 6,
   "metadata": {},
   "outputs": [
    {
     "data": {
      "text/plain": [
       "['img', 'json']"
      ]
     },
     "execution_count": 6,
     "metadata": {},
     "output_type": "execute_result"
    }
   ],
   "source": [
    "T[:10]"
   ]
  },
  {
   "cell_type": "code",
   "execution_count": 37,
   "metadata": {},
   "outputs": [],
   "source": [
    "os.chdir('/home/ubuntu/autoimages/autov2/json')"
   ]
  },
  {
   "cell_type": "code",
   "execution_count": 38,
   "metadata": {},
   "outputs": [],
   "source": [
    "os.remove('pretty.json')"
   ]
  },
  {
   "cell_type": "code",
   "execution_count": 25,
   "metadata": {},
   "outputs": [
    {
     "name": "stdout",
     "output_type": "stream",
     "text": [
      "/home/ubuntu/autoimages/autov2/json\n"
     ]
    }
   ],
   "source": [
    "print(os.getcwd(''/home/ubuntu/autoimages/autov2/img'))"
   ]
  },
  {
   "cell_type": "code",
   "execution_count": 36,
   "metadata": {},
   "outputs": [
    {
     "data": {
      "text/plain": [
       "3849"
      ]
     },
     "execution_count": 36,
     "metadata": {},
     "output_type": "execute_result"
    }
   ],
   "source": [
    "len(T)"
   ]
  },
  {
   "cell_type": "code",
   "execution_count": 75,
   "metadata": {},
   "outputs": [],
   "source": [
    "T=os.listdir('/home/ubuntu/autoimages/autov2/json')"
   ]
  },
  {
   "cell_type": "code",
   "execution_count": 81,
   "metadata": {},
   "outputs": [],
   "source": [
    "os.chdir('/home/ubuntu/autoimages/autov2/json/')"
   ]
  },
  {
   "cell_type": "code",
   "execution_count": 82,
   "metadata": {},
   "outputs": [],
   "source": [
    "with open(T[0], \"r\") as read_file:\n",
    "    data = json.load(read_file)"
   ]
  },
  {
   "cell_type": "code",
   "execution_count": 83,
   "metadata": {},
   "outputs": [
    {
     "data": {
      "text/plain": [
       "{'Kilometres': '124,000 km',\n",
       " 'Status': 'Used',\n",
       " 'Trim': 'NAVIGATION LEATHER PAN SUNROOF AWD BACKUP CAM',\n",
       " 'Body Type': 'Sedan',\n",
       " 'Engine': 'I-4 cyl',\n",
       " 'Cylinder': '-',\n",
       " 'Transmission': 'Automatic',\n",
       " 'Drivetrain': 'AWD',\n",
       " 'Stock Number': '-',\n",
       " 'Exterior Colour': 'White',\n",
       " 'Interior Colour': 'Black',\n",
       " 'Passengers': '-',\n",
       " 'Doors': '4',\n",
       " 'Fuel Type': 'Gas',\n",
       " 'City Fuel Economy': '-',\n",
       " 'Hwy Fuel Economy': '-',\n",
       " 'make': 'Mercedes-Benz',\n",
       " 'model': 'C-Class',\n",
       " 'year': '2015'}"
      ]
     },
     "execution_count": 83,
     "metadata": {},
     "output_type": "execute_result"
    }
   ],
   "source": [
    "data"
   ]
  },
  {
   "cell_type": "code",
   "execution_count": 78,
   "metadata": {},
   "outputs": [
    {
     "data": {
      "text/plain": [
       "False"
      ]
     },
     "execution_count": 78,
     "metadata": {},
     "output_type": "execute_result"
    }
   ],
   "source": [
    "os.path.isfile('/home/ubuntu/autoimages/autov2/json/65df2e75-00ff-4f48-ab1f-1bf9913adb07.json') "
   ]
  },
  {
   "cell_type": "code",
   "execution_count": 16,
   "metadata": {},
   "outputs": [],
   "source": [
    "os.chdir('/home/ubuntu/autoimages/autov2/json')"
   ]
  },
  {
   "cell_type": "code",
   "execution_count": 26,
   "metadata": {},
   "outputs": [],
   "source": [
    "for l in L[746479:]:\n",
    "    if l[-5:] == '.json':\n",
    "        with open(l, \"r\") as read_file:\n",
    "            data = json.load(read_file)\n",
    "        if data.doors == 2\n",
    "        newdir = '/home/ubuntu/autoimages/autov2/img/'+data['make']+'_'+data['model']+'_'+data['year']\n",
    "        if not os.path.exists(newdir):\n",
    "            os.makedirs(newdir)\n",
    "        img = '/'+l[:-5]+'.jpg'\n",
    "        src = '/home/ubuntu/autoimages/autov2/img/'+l[:-5]+'.jpg'\n",
    "        os.rename(src, newdir+img)\n",
    "        \n",
    "        "
   ]
  },
  {
   "cell_type": "code",
   "execution_count": null,
   "metadata": {},
   "outputs": [],
   "source": [
    "os.path.exists('/home/ubuntu/autoimages/autov2/im')"
   ]
  },
  {
   "cell_type": "code",
   "execution_count": 39,
   "metadata": {},
   "outputs": [],
   "source": [
    "os.chdir('/home/ubuntu/autoimages/autov2/img')"
   ]
  },
  {
   "cell_type": "code",
   "execution_count": 40,
   "metadata": {},
   "outputs": [],
   "source": [
    "T = os.listdir('/home/ubuntu/autoimages/autov2/img')"
   ]
  },
  {
   "cell_type": "code",
   "execution_count": 41,
   "metadata": {},
   "outputs": [
    {
     "data": {
      "text/plain": [
       "False"
      ]
     },
     "execution_count": 41,
     "metadata": {},
     "output_type": "execute_result"
    }
   ],
   "source": [
    "os.path.exists('/home/ubuntu/autoimages/autov2/img/val')"
   ]
  },
  {
   "cell_type": "code",
   "execution_count": 60,
   "metadata": {},
   "outputs": [],
   "source": [
    "os.makedirs('/home/ubuntu/saved_models')"
   ]
  },
  {
   "cell_type": "code",
   "execution_count": 43,
   "metadata": {},
   "outputs": [
    {
     "data": {
      "text/plain": [
       "'Mercedes-Benz_SL-Class_1979'"
      ]
     },
     "execution_count": 43,
     "metadata": {},
     "output_type": "execute_result"
    }
   ],
   "source": [
    "T[0]"
   ]
  },
  {
   "cell_type": "code",
   "execution_count": 44,
   "metadata": {},
   "outputs": [],
   "source": [
    "for t in T:\n",
    "    os.makedirs('/home/ubuntu/autoimages/autov2/img/val/'+t)"
   ]
  },
  {
   "cell_type": "code",
   "execution_count": 49,
   "metadata": {},
   "outputs": [
    {
     "data": {
      "text/plain": [
       "'/home/ubuntu/autoimages/autov2/img/Mercedes-Benz_SL-Class_1979'"
      ]
     },
     "execution_count": 49,
     "metadata": {},
     "output_type": "execute_result"
    }
   ],
   "source": [
    "'/home/ubuntu/autoimages/autov2/img/'+T[0]"
   ]
  },
  {
   "cell_type": "code",
   "execution_count": 46,
   "metadata": {},
   "outputs": [],
   "source": [
    "os.rename('/home/ubuntu/Mercedes-BenzC-Class2015','/home/ubuntu/ToyotaTundra2016/Mercedes-BenzC-Class2015')"
   ]
  },
  {
   "cell_type": "code",
   "execution_count": 50,
   "metadata": {},
   "outputs": [],
   "source": [
    "for t in T:\n",
    "    SRC = '/home/ubuntu/autoimages/autov2/img/'+t\n",
    "    DES = '/home/ubuntu/autoimages/autov2/img/train/'+t\n",
    "    os.rename(SRC, DES)"
   ]
  },
  {
   "cell_type": "code",
   "execution_count": 54,
   "metadata": {},
   "outputs": [],
   "source": [
    "from shutil import copy2\n",
    "os.chdir('/home/ubuntu')"
   ]
  },
  {
   "cell_type": "code",
   "execution_count": 55,
   "metadata": {},
   "outputs": [],
   "source": [
    "src = '/home/ubuntu/dc9f5394-58e2-4cf6-bea1-5dc741a3aaa0.json'\n",
    "dst = '/home/ubuntu/ToyotaTundra2016'\n",
    "copy2(src, dst)"
   ]
  },
  {
   "cell_type": "code",
   "execution_count": 57,
   "metadata": {},
   "outputs": [
    {
     "name": "stdout",
     "output_type": "stream",
     "text": [
      "[1, 1, 1, 1, 1, 1, 1, 1, 1, 1, 1, 1, 1, 1, 1, 1, 1, 1, 1, 1]\n"
     ]
    }
   ],
   "source": [
    "T = os.listdir('/home/ubuntu/autoimages/autov2/img/train')\n",
    "Min = 200\n",
    "Len = []\n",
    "for t in T:\n",
    "    lent = os.listdir('/home/ubuntu/autoimages/autov2/img/train/'+t)\n",
    "    Len.append(len(lent))\n",
    "\n",
    "print(sorted(Len)[:200])"
   ]
  },
  {
   "cell_type": "code",
   "execution_count": 58,
   "metadata": {},
   "outputs": [
    {
     "name": "stdout",
     "output_type": "stream",
     "text": [
      "[1, 1, 1, 1, 1, 1, 1, 1, 1, 1, 1, 1, 1, 1, 1, 1, 1, 1, 1, 1, 1, 1, 1, 1, 1, 1, 1, 1, 1, 1, 1, 1, 1, 1, 1, 1, 1, 1, 1, 1, 1, 1, 1, 1, 1, 1, 1, 1, 1, 1, 1, 1, 1, 1, 1, 1, 1, 1, 1, 1, 1, 1, 1, 1, 2, 2, 2, 2, 2, 2, 2, 2, 2, 2, 2, 2, 2, 2, 2, 2, 2, 3, 3, 3, 3, 3, 3, 3, 3, 3, 3, 4, 4, 4, 4, 4, 4, 4, 4, 4, 4, 4, 4, 4, 4, 4, 4, 5, 5, 5, 5, 5, 5, 5, 5, 5, 5, 5, 5, 5, 5, 5, 5, 5, 5, 5, 5, 5, 5, 5, 5, 6, 6, 6, 6, 6, 6, 6, 6, 6, 6, 6, 6, 6, 6, 6, 6, 6, 6, 6, 6, 6, 6, 6, 6, 7, 7, 7, 7, 7, 7, 7, 7, 7, 7, 7, 7, 7, 7, 7, 7, 7, 7, 7, 7, 7, 7, 7, 7, 7, 7, 8, 8, 8, 8, 8, 8, 8, 8, 8, 8, 8, 8, 8, 8, 8, 8, 8, 8, 8]\n"
     ]
    }
   ],
   "source": [
    "print(sorted(Len)[:200])"
   ]
  },
  {
   "cell_type": "code",
   "execution_count": 59,
   "metadata": {},
   "outputs": [],
   "source": [
    "T = os.listdir('/home/ubuntu/autoimages/autov2/img/train')\n",
    "test = '/home/ubuntu/autoimages/autov2/img/val/'\n",
    "for t in T:\n",
    "    subroot = '/home/ubuntu/autoimages/autov2/img/train/'+t\n",
    "    piclist = os.listdir(subroot)\n",
    "    subdir = subroot+'/'\n",
    "    testroot = test+t\n",
    "    testdir = testroot+'/'\n",
    "    if len(piclist) <= 10:\n",
    "        p = piclist[0]\n",
    "        copy2(subdir+p,testroot)\n",
    "    elif 10 < len(piclist) <= 20:\n",
    "        p0,p1 = piclist[0],piclist[1]\n",
    "        os.rename(subdir+p0,testdir+p0)\n",
    "        os.rename(subdir+p1,testdir+p1)\n",
    "    else:\n",
    "        p0,p1,p2 = piclist[0],piclist[1],piclist[2]\n",
    "        os.rename(subdir+p0,testdir+p0)\n",
    "        os.rename(subdir+p1,testdir+p1)\n",
    "        os.rename(subdir+p2,testdir+p2)"
   ]
  },
  {
   "cell_type": "code",
   "execution_count": 18,
   "metadata": {},
   "outputs": [],
   "source": [
    "import os\n",
    "import random\n",
    "import shutil"
   ]
  },
  {
   "cell_type": "code",
   "execution_count": 20,
   "metadata": {},
   "outputs": [
    {
     "data": {
      "text/plain": [
       "'/home/ubuntu'"
      ]
     },
     "execution_count": 20,
     "metadata": {},
     "output_type": "execute_result"
    }
   ],
   "source": [
    "os.getcwd()"
   ]
  },
  {
   "cell_type": "code",
   "execution_count": 10,
   "metadata": {},
   "outputs": [],
   "source": [
    "os.mkdir('/home/ubuntu/autoimages/autov2/img/v1')"
   ]
  },
  {
   "cell_type": "code",
   "execution_count": 10,
   "metadata": {},
   "outputs": [],
   "source": [
    "Tmp = os.listdir('/home/ubuntu/autoimages/autov2/img/train')"
   ]
  },
  {
   "cell_type": "code",
   "execution_count": 18,
   "metadata": {},
   "outputs": [],
   "source": [
    "J=random.sample(Tmp,100)"
   ]
  },
  {
   "cell_type": "code",
   "execution_count": 21,
   "metadata": {},
   "outputs": [
    {
     "data": {
      "text/plain": [
       "['Mercedes-Benz_SL-Class_1979',\n",
       " 'Volvo_Unspecified_2018',\n",
       " 'Chrysler_300_2008',\n",
       " 'Chevrolet_Silverado 2500_2008',\n",
       " 'BMW_7 Series_2016',\n",
       " 'Genesis_G80_2018',\n",
       " 'Cadillac_CTS_2008']"
      ]
     },
     "execution_count": 21,
     "metadata": {},
     "output_type": "execute_result"
    }
   ],
   "source": [
    "J"
   ]
  },
  {
   "cell_type": "code",
   "execution_count": 29,
   "metadata": {},
   "outputs": [],
   "source": [
    "shutil.copy2('/home/ubuntu/dc9f5394-58e2-4cf6-bea1-5dc741a3aaa0.json','/home/ubuntu/new1')"
   ]
  },
  {
   "cell_type": "code",
   "execution_count": 22,
   "metadata": {},
   "outputs": [],
   "source": [
    "src = '/home/ubuntu/autoimages/autov2/img/val/'\n",
    "dst = '/home/ubuntu/autoimages/autov2/img/v1/'\n",
    "for j in J:\n",
    "    tmpdst = dst+j\n",
    "    if not os.path.exists(tmpdst):\n",
    "        os.makedirs(tmpdst)\n",
    "    tmpsrc = src+j+'/'\n",
    "    fileinj = os.listdir(tmpsrc)\n",
    "    for pic in fileinj:\n",
    "        newsrc = tmpsrc+pic\n",
    "        newdst = tmpdst+pic\n",
    "#         print(newsrc)\n",
    "#         print(new)\n",
    "        shutil.copy2(newsrc,tmpdst)\n"
   ]
  },
  {
   "cell_type": "code",
   "execution_count": 22,
   "metadata": {},
   "outputs": [
    {
     "data": {
      "text/plain": [
       "'/home/ubuntu'"
      ]
     },
     "execution_count": 22,
     "metadata": {},
     "output_type": "execute_result"
    }
   ],
   "source": [
    "# T = os.listdir('autoimages/autov2/img/t1')\n",
    "\n",
    "# os.remove\n",
    "# os.getcwd()\n",
    "# os.chdir('/home/ubuntu')\n",
    "# os.path.isfile('autoimages/autov2/')\n",
    "# os.path.exists('autov2/')\n",
    "# os.rename('Nvidia_Cloud_EULA.pdf','src/Nvidia_Cloud_EULA.pdf')\n",
    "# import shutil\n",
    "# shutil.copy2('/home/ubuntu/src/Nvidia_Cloud_EULA.pdf','/home/ubuntu')"
   ]
  },
  {
   "cell_type": "code",
   "execution_count": 12,
   "metadata": {},
   "outputs": [],
   "source": [
    "# T"
   ]
  },
  {
   "cell_type": "code",
   "execution_count": 25,
   "metadata": {},
   "outputs": [],
   "source": [
    "# path = '/home/ubuntu/autoimages/autov2/img/t1'\n",
    "# Mercedes=path+'/'+'Mercedes-Benz_SLK-Class_2007'\n",
    "# for t in T:\n",
    "#     newpath = path+'/'+t\n",
    "#     valt = '/home/ubuntu/autoimages/autov2/img/'+'v1/'+t\n",
    "    \n",
    "# rand\n",
    "# valMercedes = '/home/ubuntu/autoimages/autov2/img/'+'v1/'+'Mercedes-Benz_SLK-Class_2007'\n",
    "# L=os.listdir(Mercedes)\n",
    "# ran = rand.randint()\n",
    "# random.choice(L,ran)\n",
    "# os.rename()"
   ]
  },
  {
   "cell_type": "code",
   "execution_count": 3,
   "metadata": {},
   "outputs": [],
   "source": [
    "import numpy as np\n",
    "import cv2\n",
    "import glob\n",
    "\n",
    "T = os.listdir('autoimages/autov2/img/t1')\n",
    "path = '/home/ubuntu/autoimages/autov2/img/t1'\n",
    "newpath = []\n",
    "for t in T:\n",
    "    newpath = np.hstack((newpath,path+'/'+t))    \n",
    "    \n",
    "    "
   ]
  },
  {
   "cell_type": "code",
   "execution_count": 55,
   "metadata": {},
   "outputs": [
    {
     "name": "stdout",
     "output_type": "stream",
     "text": [
      "['/home/ubuntu/autoimages/autov2/img/t1/Mercedes-Benz_SLK-Class_2007'\n",
      " '/home/ubuntu/autoimages/autov2/img/t1/Chevrolet_Trax_2016'\n",
      " '/home/ubuntu/autoimages/autov2/img/t1/Honda_Element_2003'\n",
      " '/home/ubuntu/autoimages/autov2/img/t1/Bentley_Continental GT_2007'\n",
      " '/home/ubuntu/autoimages/autov2/img/t1/Jaguar_XJ_2014'\n",
      " '/home/ubuntu/autoimages/autov2/img/t1/Toyota_Sienna_2008'\n",
      " '/home/ubuntu/autoimages/autov2/img/t1/Toyota_Sienna_2013'\n",
      " '/home/ubuntu/autoimages/autov2/img/t1/Land Rover_LR4_2011'\n",
      " '/home/ubuntu/autoimages/autov2/img/t1/BMW_Z4_2003'\n",
      " '/home/ubuntu/autoimages/autov2/img/t1/Ford_Escape_2013'\n",
      " '/home/ubuntu/autoimages/autov2/img/t1/Toyota_Corolla_2008'\n",
      " '/home/ubuntu/autoimages/autov2/img/t1/Nissan_Murano_2016'\n",
      " '/home/ubuntu/autoimages/autov2/img/t1/Mercedes-Benz_CLA-Class_2016'\n",
      " '/home/ubuntu/autoimages/autov2/img/t1/Lexus_IS C_2012'\n",
      " '/home/ubuntu/autoimages/autov2/img/t1/Land Rover_Range Rover Sport_2009'\n",
      " '/home/ubuntu/autoimages/autov2/img/t1/Chevrolet_Corvette_2005'\n",
      " '/home/ubuntu/autoimages/autov2/img/t1/Jeep_Grand Cherokee_2011'\n",
      " '/home/ubuntu/autoimages/autov2/img/t1/Porsche_Panamera_2010'\n",
      " '/home/ubuntu/autoimages/autov2/img/t1/Nissan_Altima_2014'\n",
      " '/home/ubuntu/autoimages/autov2/img/t1/Acura_CSX_2010'\n",
      " '/home/ubuntu/autoimages/autov2/img/t1/GMC_Yukon XL_2016'\n",
      " '/home/ubuntu/autoimages/autov2/img/t1/MINI_Cooper Countryman_2014'\n",
      " '/home/ubuntu/autoimages/autov2/img/t1/Mazda_Unspecified_2016'\n",
      " '/home/ubuntu/autoimages/autov2/img/t1/Toyota_Prius c_2017'\n",
      " '/home/ubuntu/autoimages/autov2/img/t1/Mazda_MAZDA6_2004'\n",
      " '/home/ubuntu/autoimages/autov2/img/t1/Volvo_C30_2013'\n",
      " '/home/ubuntu/autoimages/autov2/img/t1/Nissan_Altima_2012'\n",
      " '/home/ubuntu/autoimages/autov2/img/t1/Cadillac_SRX_2009'\n",
      " '/home/ubuntu/autoimages/autov2/img/t1/Honda_CR-V_2008'\n",
      " '/home/ubuntu/autoimages/autov2/img/t1/Mazda_CX-5_2018'\n",
      " '/home/ubuntu/autoimages/autov2/img/t1/Ford_F-150_2015'\n",
      " '/home/ubuntu/autoimages/autov2/img/t1/Kia_Forte5_2015'\n",
      " '/home/ubuntu/autoimages/autov2/img/t1/Chevrolet_Orlando_2013'\n",
      " '/home/ubuntu/autoimages/autov2/img/t1/Lincoln_MKS_2015'\n",
      " '/home/ubuntu/autoimages/autov2/img/t1/Audi_Q7_2007'\n",
      " '/home/ubuntu/autoimages/autov2/img/t1/Cadillac_ATS-V_2018'\n",
      " '/home/ubuntu/autoimages/autov2/img/t1/Mercedes-Benz_C-Class_2003'\n",
      " '/home/ubuntu/autoimages/autov2/img/t1/Ford_Focus_2002'\n",
      " '/home/ubuntu/autoimages/autov2/img/t1/Audi_R8_2011'\n",
      " '/home/ubuntu/autoimages/autov2/img/t1/Honda_Pilot_2005'\n",
      " '/home/ubuntu/autoimages/autov2/img/t1/Ram_3500_2013'\n",
      " '/home/ubuntu/autoimages/autov2/img/t1/Cadillac_CTS-V_2018'\n",
      " '/home/ubuntu/autoimages/autov2/img/t1/Saturn_Astra_2008'\n",
      " '/home/ubuntu/autoimages/autov2/img/t1/Mazda_MAZDA6_2008'\n",
      " '/home/ubuntu/autoimages/autov2/img/t1/Mazda_MAZDA5_2017'\n",
      " '/home/ubuntu/autoimages/autov2/img/t1/GMC_Acadia_2008'\n",
      " '/home/ubuntu/autoimages/autov2/img/t1/Mazda_CX-9_2014'\n",
      " '/home/ubuntu/autoimages/autov2/img/t1/Audi_TTS_2011'\n",
      " '/home/ubuntu/autoimages/autov2/img/t1/Subaru_Impreza WRX STi_2011'\n",
      " '/home/ubuntu/autoimages/autov2/img/t1/Hyundai_Santa Fe_2014'\n",
      " '/home/ubuntu/autoimages/autov2/img/t1/GMC_Sierra 1500_2010'\n",
      " '/home/ubuntu/autoimages/autov2/img/t1/Ford_Mustang_2013'\n",
      " '/home/ubuntu/autoimages/autov2/img/t1/Honda_Accord Hybrid_2004'\n",
      " '/home/ubuntu/autoimages/autov2/img/t1/Ford_Focus Electric_2013'\n",
      " '/home/ubuntu/autoimages/autov2/img/t1/Kia_Rio5_2016'\n",
      " '/home/ubuntu/autoimages/autov2/img/t1/Toyota_Unspecified_2002'\n",
      " '/home/ubuntu/autoimages/autov2/img/t1/Suzuki_Grand Vitara_2006'\n",
      " '/home/ubuntu/autoimages/autov2/img/t1/Ford_Taurus_2013'\n",
      " '/home/ubuntu/autoimages/autov2/img/t1/Ram_3500_2015'\n",
      " '/home/ubuntu/autoimages/autov2/img/t1/Ford_Fusion Energi_2015'\n",
      " '/home/ubuntu/autoimages/autov2/img/t1/Mercedes-Benz_B-Class_2017'\n",
      " '/home/ubuntu/autoimages/autov2/img/t1/Lexus_ES_2010'\n",
      " '/home/ubuntu/autoimages/autov2/img/t1/Chevrolet_Malibu_2006'\n",
      " '/home/ubuntu/autoimages/autov2/img/t1/Mercedes-Benz_Metris Passenger Van_2018'\n",
      " '/home/ubuntu/autoimages/autov2/img/t1/Dodge_Dakota_2002'\n",
      " '/home/ubuntu/autoimages/autov2/img/t1/.ipynb_checkpoints'\n",
      " '/home/ubuntu/autoimages/autov2/img/t1/GMC_Yukon_2009'\n",
      " '/home/ubuntu/autoimages/autov2/img/t1/Honda_CR-Z_2014'\n",
      " '/home/ubuntu/autoimages/autov2/img/t1/BMW_4 Series_2017'\n",
      " '/home/ubuntu/autoimages/autov2/img/t1/Dodge_Dakota_2005'\n",
      " '/home/ubuntu/autoimages/autov2/img/t1/BMW_X1_2013'\n",
      " '/home/ubuntu/autoimages/autov2/img/t1/Jeep_TJ_2006'\n",
      " '/home/ubuntu/autoimages/autov2/img/t1/Nissan_Titan_2012'\n",
      " '/home/ubuntu/autoimages/autov2/img/t1/Mazda_Miata MX-5_2018'\n",
      " '/home/ubuntu/autoimages/autov2/img/t1/Acura_TL_2013'\n",
      " '/home/ubuntu/autoimages/autov2/img/t1/Nissan_Altima_2011'\n",
      " '/home/ubuntu/autoimages/autov2/img/t1/Volvo_V60_2015'\n",
      " '/home/ubuntu/autoimages/autov2/img/t1/Ford_Taurus_2010'\n",
      " '/home/ubuntu/autoimages/autov2/img/t1/Scion_xD_2011'\n",
      " '/home/ubuntu/autoimages/autov2/img/t1/Mercedes-Benz_CLK-Class_2008'\n",
      " '/home/ubuntu/autoimages/autov2/img/t1/Hyundai_Santa Fe_2008'\n",
      " '/home/ubuntu/autoimages/autov2/img/t1/Volkswagen_GLI_2013'\n",
      " '/home/ubuntu/autoimages/autov2/img/t1/Kia_Forte_2018'\n",
      " '/home/ubuntu/autoimages/autov2/img/t1/Nissan_Pathfinder_2014'\n",
      " '/home/ubuntu/autoimages/autov2/img/t1/Ford_F-350_2006'\n",
      " '/home/ubuntu/autoimages/autov2/img/t1/Dodge_RAM 1500 PICKUP_2004'\n",
      " '/home/ubuntu/autoimages/autov2/img/t1/Mazda_CX-5_2016'\n",
      " '/home/ubuntu/autoimages/autov2/img/t1/Honda_Civic Sedan_2016'\n",
      " '/home/ubuntu/autoimages/autov2/img/t1/Chrysler_200_2017'\n",
      " '/home/ubuntu/autoimages/autov2/img/t1/Toyota_Tacoma_2018'\n",
      " '/home/ubuntu/autoimages/autov2/img/t1/Volkswagen_Passat_2006'\n",
      " '/home/ubuntu/autoimages/autov2/img/t1/GMC_Yukon_2017'\n",
      " '/home/ubuntu/autoimages/autov2/img/t1/Mazda_CX-3_2018'\n",
      " '/home/ubuntu/autoimages/autov2/img/t1/Nissan_Juke_2015'\n",
      " '/home/ubuntu/autoimages/autov2/img/t1/Dodge_RAM 2500 PICKUP_2012'\n",
      " '/home/ubuntu/autoimages/autov2/img/t1/Toyota_Yaris_2009'\n",
      " '/home/ubuntu/autoimages/autov2/img/t1/Lexus_SC_2002'\n",
      " '/home/ubuntu/autoimages/autov2/img/t1/Mercedes-Benz_C-Class_2012'\n",
      " '/home/ubuntu/autoimages/autov2/img/t1/Nissan_Frontier_2016'\n",
      " '/home/ubuntu/autoimages/autov2/img/t1/GMC_Sierra 1500_2001'\n",
      " '/home/ubuntu/autoimages/autov2/img/t1/Ford_Unspecified_2017']\n"
     ]
    }
   ],
   "source": [
    "print(newpath)"
   ]
  },
  {
   "cell_type": "code",
   "execution_count": 73,
   "metadata": {},
   "outputs": [],
   "source": [
    "import random\n",
    "import shutil\n",
    "\n",
    "prefixt = '/home/ubuntu/autoimages/autov2/img/t1/'\n",
    "prefixv = '/home/ubuntu/autoimages/autov2/img/v1/'\n",
    "\n",
    "V1 = os.listdir('/home/ubuntu/autoimages/autov2/img/v1/')\n",
    "for folder in V1:\n",
    "    folderpath = prefixv+folder\n",
    "    dstpath = prefixt+folder\n",
    "    pics = os.listdir(folderpath)\n",
    "    if len(pics) >= 8:\n",
    "        numberofmove = int(len(pics)*0.3)\n",
    "        move = random.sample(pics,numberofmove)\n",
    "        for can in move:\n",
    "            shutil.move(folderpath+'/'+can,dstpath+'/'+can)\n",
    "# print(T1[0])\n",
    "# for i in range(len(newpath[0:2])):\n",
    "#     list_of_random_items = []\n",
    "#     if (len(glob.glob(newpath[i]+'/*'))) >= 10:\n",
    "#         num_to_select = int((len(glob.glob(newpath[i]+'/*')))/4)\n",
    "#         list_of_random_items = np.append(list_of_random_items, random.sample(glob.glob(newpath[i]+'/*'), num_to_select))\n",
    "#         for j in list_of_random_items:\n",
    "#             os.rename('/t1', '/v1')\n",
    "#             shutil.move(list_of_random_items, \"path/to/new/destination/for/file.foo\")\n",
    "        \n",
    "        \n",
    "       \n",
    "        "
   ]
  },
  {
   "cell_type": "code",
   "execution_count": 71,
   "metadata": {},
   "outputs": [
    {
     "name": "stdout",
     "output_type": "stream",
     "text": [
      "48\n"
     ]
    }
   ],
   "source": [
    "print(len(os.listdir(prefixt+'Chevrolet_Trax_2016')))"
   ]
  },
  {
   "cell_type": "code",
   "execution_count": 62,
   "metadata": {},
   "outputs": [
    {
     "data": {
      "text/plain": [
       "'tutorials/Nvidia_Cloud_EULA.pdf'"
      ]
     },
     "execution_count": 62,
     "metadata": {},
     "output_type": "execute_result"
    }
   ],
   "source": [
    "# print((list_of_random_items))\n",
    "# os.listdir('/home/ubuntu/autoimages/autov2/img/t1/')\n",
    "os.chdir('/home/ubuntu')\n",
    "import shutil\n",
    "shutil.move('Nvidia_Cloud_EULA.pdf','tutorials/Nvidia_Cloud_EULA.pdf')"
   ]
  },
  {
   "cell_type": "code",
   "execution_count": 57,
   "metadata": {},
   "outputs": [
    {
     "data": {
      "text/plain": [
       "['Mercedes-Benz_SLK-Class_2007',\n",
       " 'Chevrolet_Trax_2016',\n",
       " 'Honda_Element_2003',\n",
       " 'Bentley_Continental GT_2007',\n",
       " 'Jaguar_XJ_2014',\n",
       " 'Toyota_Sienna_2008',\n",
       " 'Toyota_Sienna_2013',\n",
       " 'Land Rover_LR4_2011',\n",
       " 'BMW_Z4_2003',\n",
       " 'Ford_Escape_2013',\n",
       " 'Toyota_Corolla_2008',\n",
       " 'Nissan_Murano_2016',\n",
       " 'Mercedes-Benz_CLA-Class_2016',\n",
       " 'Lexus_IS C_2012',\n",
       " 'Land Rover_Range Rover Sport_2009',\n",
       " 'Chevrolet_Corvette_2005',\n",
       " 'Jeep_Grand Cherokee_2011',\n",
       " 'Porsche_Panamera_2010',\n",
       " 'Nissan_Altima_2014',\n",
       " 'Acura_CSX_2010',\n",
       " 'GMC_Yukon XL_2016',\n",
       " 'MINI_Cooper Countryman_2014',\n",
       " 'Mazda_Unspecified_2016',\n",
       " 'Toyota_Prius c_2017',\n",
       " 'Mazda_MAZDA6_2004',\n",
       " 'Volvo_C30_2013',\n",
       " 'Nissan_Altima_2012',\n",
       " 'Cadillac_SRX_2009',\n",
       " 'Honda_CR-V_2008',\n",
       " 'Mazda_CX-5_2018',\n",
       " 'Ford_F-150_2015',\n",
       " 'Kia_Forte5_2015',\n",
       " 'Chevrolet_Orlando_2013',\n",
       " 'Lincoln_MKS_2015',\n",
       " 'Audi_Q7_2007',\n",
       " 'Cadillac_ATS-V_2018',\n",
       " 'Mercedes-Benz_C-Class_2003',\n",
       " 'Ford_Focus_2002',\n",
       " 'Audi_R8_2011',\n",
       " 'Honda_Pilot_2005',\n",
       " 'Ram_3500_2013',\n",
       " 'Cadillac_CTS-V_2018',\n",
       " 'Saturn_Astra_2008',\n",
       " 'Mazda_MAZDA6_2008',\n",
       " 'Mazda_MAZDA5_2017',\n",
       " 'GMC_Acadia_2008',\n",
       " 'Mazda_CX-9_2014',\n",
       " 'Audi_TTS_2011',\n",
       " 'Subaru_Impreza WRX STi_2011',\n",
       " 'Hyundai_Santa Fe_2014',\n",
       " 'GMC_Sierra 1500_2010',\n",
       " 'Ford_Mustang_2013',\n",
       " 'Honda_Accord Hybrid_2004',\n",
       " 'Ford_Focus Electric_2013',\n",
       " 'Kia_Rio5_2016',\n",
       " 'Toyota_Unspecified_2002',\n",
       " 'Suzuki_Grand Vitara_2006',\n",
       " 'Ford_Taurus_2013',\n",
       " 'Ram_3500_2015',\n",
       " 'Ford_Fusion Energi_2015',\n",
       " 'Mercedes-Benz_B-Class_2017',\n",
       " 'Lexus_ES_2010',\n",
       " 'Chevrolet_Malibu_2006',\n",
       " 'Mercedes-Benz_Metris Passenger Van_2018',\n",
       " 'Dodge_Dakota_2002',\n",
       " '.ipynb_checkpoints',\n",
       " 'GMC_Yukon_2009',\n",
       " 'Honda_CR-Z_2014',\n",
       " 'BMW_4 Series_2017',\n",
       " 'Dodge_Dakota_2005',\n",
       " 'BMW_X1_2013',\n",
       " 'Jeep_TJ_2006',\n",
       " 'Nissan_Titan_2012',\n",
       " 'Mazda_Miata MX-5_2018',\n",
       " 'Acura_TL_2013',\n",
       " 'Nissan_Altima_2011',\n",
       " 'Volvo_V60_2015',\n",
       " 'Ford_Taurus_2010',\n",
       " 'Scion_xD_2011',\n",
       " 'Mercedes-Benz_CLK-Class_2008',\n",
       " 'Hyundai_Santa Fe_2008',\n",
       " 'Volkswagen_GLI_2013',\n",
       " 'Kia_Forte_2018',\n",
       " 'Nissan_Pathfinder_2014',\n",
       " 'Ford_F-350_2006',\n",
       " 'Dodge_RAM 1500 PICKUP_2004',\n",
       " 'Mazda_CX-5_2016',\n",
       " 'Honda_Civic Sedan_2016',\n",
       " 'Chrysler_200_2017',\n",
       " 'Toyota_Tacoma_2018',\n",
       " 'Volkswagen_Passat_2006',\n",
       " 'GMC_Yukon_2017',\n",
       " 'Mazda_CX-3_2018',\n",
       " 'Nissan_Juke_2015',\n",
       " 'Dodge_RAM 2500 PICKUP_2012',\n",
       " 'Toyota_Yaris_2009',\n",
       " 'Lexus_SC_2002',\n",
       " 'Mercedes-Benz_C-Class_2012',\n",
       " 'Nissan_Frontier_2016',\n",
       " 'GMC_Sierra 1500_2001',\n",
       " 'Ford_Unspecified_2017']"
      ]
     },
     "execution_count": 57,
     "metadata": {},
     "output_type": "execute_result"
    }
   ],
   "source": [
    "prefix = '/home/ubuntu/autoimages/autov2/img/t1'"
   ]
  },
  {
   "cell_type": "code",
   "execution_count": 27,
   "metadata": {},
   "outputs": [
    {
     "name": "stdout",
     "output_type": "stream",
     "text": [
      "0\n",
      "1\n"
     ]
    }
   ],
   "source": [
    "for i in range(len(newpath[:2])):\n",
    "    print (i)"
   ]
  },
  {
   "cell_type": "code",
   "execution_count": null,
   "metadata": {},
   "outputs": [],
   "source": [
    "# num_to_select = (len(glob.glob(newpath[i]+'/*')))/3\n",
    "# list_of_random_items = random.sample(group_of_items, num_to_select)"
   ]
  },
  {
   "cell_type": "code",
   "execution_count": null,
   "metadata": {},
   "outputs": [],
   "source": [
    "# import os\n",
    "# import shutil\n",
    "\n",
    "# os.rename(\"path/to/current/file.foo\", \"path/to/new/destination/for/file.foo\")\n",
    "#or\n",
    "# shutil.move(\"path/to/current/file.foo\", \"path/to/new/destination/for/file.foo\")"
   ]
  },
  {
   "cell_type": "code",
   "execution_count": 8,
   "metadata": {},
   "outputs": [
    {
     "name": "stdout",
     "output_type": "stream",
     "text": [
      "101\n"
     ]
    }
   ],
   "source": [
    "print(len(newpath))"
   ]
  },
  {
   "cell_type": "code",
   "execution_count": 4,
   "metadata": {
    "scrolled": true
   },
   "outputs": [
    {
     "data": {
      "text/plain": [
       "array([['Mercedes-Benz_SLK-Class_2007', '15'],\n",
       "       ['Chevrolet_Trax_2016', '63'],\n",
       "       ['Honda_Element_2003', '5'],\n",
       "       ['Bentley_Continental GT_2007', '7'],\n",
       "       ['Jaguar_XJ_2014', '32'],\n",
       "       ['Toyota_Sienna_2008', '44'],\n",
       "       ['Toyota_Sienna_2013', '149'],\n",
       "       ['Land Rover_LR4_2011', '4'],\n",
       "       ['BMW_Z4_2003', '5'],\n",
       "       ['Ford_Escape_2013', '637'],\n",
       "       ['Toyota_Corolla_2008', '3'],\n",
       "       ['Nissan_Murano_2016', '145'],\n",
       "       ['Mercedes-Benz_CLA-Class_2016', '100'],\n",
       "       ['Lexus_IS C_2012', '7'],\n",
       "       ['Land Rover_Range Rover Sport_2009', '2'],\n",
       "       ['Chevrolet_Corvette_2005', '18'],\n",
       "       ['Jeep_Grand Cherokee_2011', '78'],\n",
       "       ['Porsche_Panamera_2010', '20'],\n",
       "       ['Nissan_Altima_2014', '176'],\n",
       "       ['Acura_CSX_2010', '5'],\n",
       "       ['GMC_Yukon XL_2016', '7'],\n",
       "       ['MINI_Cooper Countryman_2014', '46'],\n",
       "       ['Mazda_Unspecified_2016', '10'],\n",
       "       ['Toyota_Prius c_2017', '8'],\n",
       "       ['Mazda_MAZDA6_2004', '10'],\n",
       "       ['Volvo_C30_2013', '1'],\n",
       "       ['Nissan_Altima_2012', '317'],\n",
       "       ['Cadillac_SRX_2009', '10'],\n",
       "       ['Honda_CR-V_2008', '53'],\n",
       "       ['Mazda_CX-5_2018', '391'],\n",
       "       ['Ford_F-150_2015', '838'],\n",
       "       ['Kia_Forte5_2015', '32'],\n",
       "       ['Chevrolet_Orlando_2013', '12'],\n",
       "       ['Lincoln_MKS_2015', '6'],\n",
       "       ['Audi_Q7_2007', '14'],\n",
       "       ['Cadillac_ATS-V_2018', '4'],\n",
       "       ['Mercedes-Benz_C-Class_2003', '6'],\n",
       "       ['Ford_Focus_2002', '7'],\n",
       "       ['Audi_R8_2011', '15'],\n",
       "       ['Honda_Pilot_2005', '1'],\n",
       "       ['Ram_3500_2013', '45'],\n",
       "       ['Cadillac_CTS-V_2018', '0'],\n",
       "       ['Saturn_Astra_2008', '29'],\n",
       "       ['Mazda_MAZDA6_2008', '4'],\n",
       "       ['Mazda_MAZDA5_2017', '179'],\n",
       "       ['GMC_Acadia_2008', '13'],\n",
       "       ['Mazda_CX-9_2014', '11'],\n",
       "       ['Audi_TTS_2011', '7'],\n",
       "       ['Subaru_Impreza WRX STi_2011', '1'],\n",
       "       ['Hyundai_Santa Fe_2014', '45'],\n",
       "       ['GMC_Sierra 1500_2010', '57'],\n",
       "       ['Ford_Mustang_2013', '63'],\n",
       "       ['Honda_Accord Hybrid_2004', '1'],\n",
       "       ['Ford_Focus Electric_2013', '4'],\n",
       "       ['Kia_Rio5_2016', '14'],\n",
       "       ['Toyota_Unspecified_2002', '4'],\n",
       "       ['Suzuki_Grand Vitara_2006', '3'],\n",
       "       ['Ford_Taurus_2013', '96'],\n",
       "       ['Ram_3500_2015', '88'],\n",
       "       ['Ford_Fusion Energi_2015', '2'],\n",
       "       ['Mercedes-Benz_B-Class_2017', '61'],\n",
       "       ['Lexus_ES_2010', '17'],\n",
       "       ['Chevrolet_Malibu_2006', '1'],\n",
       "       ['Mercedes-Benz_Metris Passenger Van_2018', '5'],\n",
       "       ['Dodge_Dakota_2002', '2'],\n",
       "       ['.ipynb_checkpoints', '0'],\n",
       "       ['GMC_Yukon_2009', '0'],\n",
       "       ['Honda_CR-Z_2014', '6'],\n",
       "       ['BMW_4 Series_2017', '82'],\n",
       "       ['Dodge_Dakota_2005', '14'],\n",
       "       ['BMW_X1_2013', '46'],\n",
       "       ['Jeep_TJ_2006', '11'],\n",
       "       ['Nissan_Titan_2012', '53'],\n",
       "       ['Mazda_Miata MX-5_2018', '3'],\n",
       "       ['Acura_TL_2013', '138'],\n",
       "       ['Nissan_Altima_2011', '48'],\n",
       "       ['Volvo_V60_2015', '40'],\n",
       "       ['Ford_Taurus_2010', '17'],\n",
       "       ['Scion_xD_2011', '6'],\n",
       "       ['Mercedes-Benz_CLK-Class_2008', '6'],\n",
       "       ['Hyundai_Santa Fe_2008', '37'],\n",
       "       ['Volkswagen_GLI_2013', '0'],\n",
       "       ['Kia_Forte_2018', '199'],\n",
       "       ['Nissan_Pathfinder_2014', '206'],\n",
       "       ['Ford_F-350_2006', '26'],\n",
       "       ['Dodge_RAM 1500 PICKUP_2004', '27'],\n",
       "       ['Mazda_CX-5_2016', '493'],\n",
       "       ['Honda_Civic Sedan_2016', '161'],\n",
       "       ['Chrysler_200_2017', '21'],\n",
       "       ['Toyota_Tacoma_2018', '122'],\n",
       "       ['Volkswagen_Passat_2006', '5'],\n",
       "       ['GMC_Yukon_2017', '20'],\n",
       "       ['Mazda_CX-3_2018', '79'],\n",
       "       ['Nissan_Juke_2015', '55'],\n",
       "       ['Dodge_RAM 2500 PICKUP_2012', '31'],\n",
       "       ['Toyota_Yaris_2009', '91'],\n",
       "       ['Lexus_SC_2002', '6'],\n",
       "       ['Mercedes-Benz_C-Class_2012', '194'],\n",
       "       ['Nissan_Frontier_2016', '34'],\n",
       "       ['GMC_Sierra 1500_2001', '6'],\n",
       "       ['Ford_Unspecified_2017', '4']], dtype='<U39')"
      ]
     },
     "execution_count": 4,
     "metadata": {},
     "output_type": "execute_result"
    }
   ],
   "source": [
    "# image_num = ([50,2]) ## for t2\n",
    "image_num = ([101,2]) ## for t1\n",
    "\n",
    "for i in range(len(newpath)):\n",
    "    l = np.append (T[i], len(glob.glob(newpath[i]+'/*')))\n",
    "    image_num = np.vstack ([image_num , l])\n",
    "np.delete(image_num,0, axis=0)"
   ]
  },
  {
   "cell_type": "code",
   "execution_count": 441,
   "metadata": {},
   "outputs": [],
   "source": [
    "# print(image_num)"
   ]
  },
  {
   "cell_type": "code",
   "execution_count": 6,
   "metadata": {},
   "outputs": [
    {
     "name": "stdout",
     "output_type": "stream",
     "text": [
      "total t1 is: 6342\n"
     ]
    }
   ],
   "source": [
    "s = 0\n",
    "for i in range(len(newpath)):\n",
    "#     print(len(glob.glob(newpath[i]+'/*')))\n",
    "    s = np.sum((s, len(glob.glob(newpath[i]+'/*'))))\n",
    "print('total t1 is:',s)    "
   ]
  },
  {
   "cell_type": "code",
   "execution_count": null,
   "metadata": {},
   "outputs": [],
   "source": [
    "import os"
   ]
  }
 ],
 "metadata": {
  "kernelspec": {
   "display_name": "Python [default]",
   "language": "python",
   "name": "python3"
  },
  "language_info": {
   "codemirror_mode": {
    "name": "ipython",
    "version": 3
   },
   "file_extension": ".py",
   "mimetype": "text/x-python",
   "name": "python",
   "nbconvert_exporter": "python",
   "pygments_lexer": "ipython3",
   "version": "3.6.4"
  }
 },
 "nbformat": 4,
 "nbformat_minor": 2
}
